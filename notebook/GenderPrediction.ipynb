{
 "cells": [
  {
   "cell_type": "markdown",
   "metadata": {},
   "source": [
    "## Import libraries and frameworks"
   ]
  },
  {
   "cell_type": "code",
   "execution_count": 1,
   "metadata": {},
   "outputs": [],
   "source": [
    "import pandas as pd\n",
    "import numpy as np\n",
    "from tensorflow import keras\n",
    "import tensorflow as tf\n",
    "import pickle\n",
    "\n",
    "tf.config.run_functions_eagerly(True)\n"
   ]
  },
  {
   "cell_type": "code",
   "execution_count": 2,
   "metadata": {},
   "outputs": [
    {
     "data": {
      "text/plain": [
       "'2.4.1'"
      ]
     },
     "execution_count": 2,
     "metadata": {},
     "output_type": "execute_result"
    }
   ],
   "source": [
    "tf.__version__"
   ]
  },
  {
   "cell_type": "markdown",
   "metadata": {},
   "source": [
    "## Our dataset"
   ]
  },
  {
   "cell_type": "code",
   "execution_count": 3,
   "metadata": {},
   "outputs": [],
   "source": [
    "# Load in our data set\n",
    "\n",
    "data = pd.DataFrame(pd.read_csv(\"names.csv\"))"
   ]
  },
  {
   "cell_type": "code",
   "execution_count": 4,
   "metadata": {},
   "outputs": [
    {
     "data": {
      "text/html": [
       "<div>\n",
       "<style scoped>\n",
       "    .dataframe tbody tr th:only-of-type {\n",
       "        vertical-align: middle;\n",
       "    }\n",
       "\n",
       "    .dataframe tbody tr th {\n",
       "        vertical-align: top;\n",
       "    }\n",
       "\n",
       "    .dataframe thead th {\n",
       "        text-align: right;\n",
       "    }\n",
       "</style>\n",
       "<table border=\"1\" class=\"dataframe\">\n",
       "  <thead>\n",
       "    <tr style=\"text-align: right;\">\n",
       "      <th></th>\n",
       "      <th>Year of Birth</th>\n",
       "      <th>Gender</th>\n",
       "      <th>Ethnicity</th>\n",
       "      <th>Child's First Name</th>\n",
       "      <th>Count</th>\n",
       "      <th>Rank</th>\n",
       "    </tr>\n",
       "  </thead>\n",
       "  <tbody>\n",
       "    <tr>\n",
       "      <th>0</th>\n",
       "      <td>2011</td>\n",
       "      <td>FEMALE</td>\n",
       "      <td>HISPANIC</td>\n",
       "      <td>GERALDINE</td>\n",
       "      <td>13</td>\n",
       "      <td>75</td>\n",
       "    </tr>\n",
       "    <tr>\n",
       "      <th>1</th>\n",
       "      <td>2011</td>\n",
       "      <td>FEMALE</td>\n",
       "      <td>HISPANIC</td>\n",
       "      <td>GIA</td>\n",
       "      <td>21</td>\n",
       "      <td>67</td>\n",
       "    </tr>\n",
       "    <tr>\n",
       "      <th>2</th>\n",
       "      <td>2011</td>\n",
       "      <td>FEMALE</td>\n",
       "      <td>HISPANIC</td>\n",
       "      <td>GIANNA</td>\n",
       "      <td>49</td>\n",
       "      <td>42</td>\n",
       "    </tr>\n",
       "    <tr>\n",
       "      <th>3</th>\n",
       "      <td>2011</td>\n",
       "      <td>FEMALE</td>\n",
       "      <td>HISPANIC</td>\n",
       "      <td>GISELLE</td>\n",
       "      <td>38</td>\n",
       "      <td>51</td>\n",
       "    </tr>\n",
       "    <tr>\n",
       "      <th>4</th>\n",
       "      <td>2011</td>\n",
       "      <td>FEMALE</td>\n",
       "      <td>HISPANIC</td>\n",
       "      <td>GRACE</td>\n",
       "      <td>36</td>\n",
       "      <td>53</td>\n",
       "    </tr>\n",
       "  </tbody>\n",
       "</table>\n",
       "</div>"
      ],
      "text/plain": [
       "   Year of Birth  Gender Ethnicity Child's First Name  Count  Rank\n",
       "0           2011  FEMALE  HISPANIC          GERALDINE     13    75\n",
       "1           2011  FEMALE  HISPANIC                GIA     21    67\n",
       "2           2011  FEMALE  HISPANIC             GIANNA     49    42\n",
       "3           2011  FEMALE  HISPANIC            GISELLE     38    51\n",
       "4           2011  FEMALE  HISPANIC              GRACE     36    53"
      ]
     },
     "execution_count": 4,
     "metadata": {},
     "output_type": "execute_result"
    }
   ],
   "source": [
    "# Taking a look at the first 5 items in our data set\n",
    "\n",
    "data.head()"
   ]
  },
  {
   "cell_type": "code",
   "execution_count": 5,
   "metadata": {},
   "outputs": [
    {
     "name": "stdout",
     "output_type": "stream",
     "text": [
      "<class 'pandas.core.frame.DataFrame'>\n",
      "RangeIndex: 22035 entries, 0 to 22034\n",
      "Data columns (total 6 columns):\n",
      " #   Column              Non-Null Count  Dtype \n",
      "---  ------              --------------  ----- \n",
      " 0   Year of Birth       22035 non-null  int64 \n",
      " 1   Gender              22035 non-null  object\n",
      " 2   Ethnicity           22035 non-null  object\n",
      " 3   Child's First Name  22035 non-null  object\n",
      " 4   Count               22035 non-null  int64 \n",
      " 5   Rank                22035 non-null  int64 \n",
      "dtypes: int64(3), object(3)\n",
      "memory usage: 1.0+ MB\n"
     ]
    }
   ],
   "source": [
    "data.info()"
   ]
  },
  {
   "cell_type": "code",
   "execution_count": 6,
   "metadata": {},
   "outputs": [
    {
     "data": {
      "text/html": [
       "<div>\n",
       "<style scoped>\n",
       "    .dataframe tbody tr th:only-of-type {\n",
       "        vertical-align: middle;\n",
       "    }\n",
       "\n",
       "    .dataframe tbody tr th {\n",
       "        vertical-align: top;\n",
       "    }\n",
       "\n",
       "    .dataframe thead th {\n",
       "        text-align: right;\n",
       "    }\n",
       "</style>\n",
       "<table border=\"1\" class=\"dataframe\">\n",
       "  <thead>\n",
       "    <tr style=\"text-align: right;\">\n",
       "      <th></th>\n",
       "      <th>Year of Birth</th>\n",
       "      <th>Count</th>\n",
       "      <th>Rank</th>\n",
       "    </tr>\n",
       "  </thead>\n",
       "  <tbody>\n",
       "    <tr>\n",
       "      <th>count</th>\n",
       "      <td>22035.000000</td>\n",
       "      <td>22035.000000</td>\n",
       "      <td>22035.000000</td>\n",
       "    </tr>\n",
       "    <tr>\n",
       "      <th>mean</th>\n",
       "      <td>2012.115589</td>\n",
       "      <td>34.512821</td>\n",
       "      <td>57.064670</td>\n",
       "    </tr>\n",
       "    <tr>\n",
       "      <th>std</th>\n",
       "      <td>1.170393</td>\n",
       "      <td>40.085777</td>\n",
       "      <td>25.452851</td>\n",
       "    </tr>\n",
       "    <tr>\n",
       "      <th>min</th>\n",
       "      <td>2011.000000</td>\n",
       "      <td>10.000000</td>\n",
       "      <td>1.000000</td>\n",
       "    </tr>\n",
       "    <tr>\n",
       "      <th>25%</th>\n",
       "      <td>2011.000000</td>\n",
       "      <td>13.000000</td>\n",
       "      <td>38.000000</td>\n",
       "    </tr>\n",
       "    <tr>\n",
       "      <th>50%</th>\n",
       "      <td>2012.000000</td>\n",
       "      <td>20.000000</td>\n",
       "      <td>59.000000</td>\n",
       "    </tr>\n",
       "    <tr>\n",
       "      <th>75%</th>\n",
       "      <td>2013.000000</td>\n",
       "      <td>36.000000</td>\n",
       "      <td>78.000000</td>\n",
       "    </tr>\n",
       "    <tr>\n",
       "      <th>max</th>\n",
       "      <td>2014.000000</td>\n",
       "      <td>426.000000</td>\n",
       "      <td>102.000000</td>\n",
       "    </tr>\n",
       "  </tbody>\n",
       "</table>\n",
       "</div>"
      ],
      "text/plain": [
       "       Year of Birth         Count          Rank\n",
       "count   22035.000000  22035.000000  22035.000000\n",
       "mean     2012.115589     34.512821     57.064670\n",
       "std         1.170393     40.085777     25.452851\n",
       "min      2011.000000     10.000000      1.000000\n",
       "25%      2011.000000     13.000000     38.000000\n",
       "50%      2012.000000     20.000000     59.000000\n",
       "75%      2013.000000     36.000000     78.000000\n",
       "max      2014.000000    426.000000    102.000000"
      ]
     },
     "execution_count": 6,
     "metadata": {},
     "output_type": "execute_result"
    }
   ],
   "source": [
    "data.describe()"
   ]
  },
  {
   "cell_type": "code",
   "execution_count": 7,
   "metadata": {},
   "outputs": [
    {
     "data": {
      "text/plain": [
       "HISPANIC                      6654\n",
       "WHITE NON HISPANIC            6178\n",
       "BLACK NON HISPANIC            3396\n",
       "ASIAN AND PACIFIC ISLANDER    2983\n",
       "WHITE NON HISP                1402\n",
       "ASIAN AND PACI                 716\n",
       "BLACK NON HISP                 706\n",
       "Name: Ethnicity, dtype: int64"
      ]
     },
     "execution_count": 7,
     "metadata": {},
     "output_type": "execute_result"
    }
   ],
   "source": [
    "# value counts\n",
    "\n",
    "data[\"Gender\"].value_counts()\n",
    "\n",
    "data[\"Ethnicity\"].value_counts()"
   ]
  },
  {
   "cell_type": "code",
   "execution_count": 8,
   "metadata": {},
   "outputs": [],
   "source": [
    "#  Selecting the columns we need \n",
    "\n",
    "names = data[\"Child's First Name\"]\n",
    "genders = data[\"Gender\"]"
   ]
  },
  {
   "cell_type": "markdown",
   "metadata": {},
   "source": [
    "## We now write a few functions to convert our letters to number representations"
   ]
  },
  {
   "cell_type": "code",
   "execution_count": 9,
   "metadata": {},
   "outputs": [],
   "source": [
    "name_char_set = set()\n",
    "\n",
    "# We now extract all unique characters in our dataset\n",
    "for name in names:\n",
    "    for ch in name:\n",
    "        if ch not in name_char_set:\n",
    "            name_char_set.add(ch)\n",
    "            pass\n",
    "        pass\n",
    "    pass\n",
    "\n",
    "#char to number encoder\n",
    "char_to_number = {}\n",
    "\n",
    "# char to number decoder\n",
    "number_to_char = {}\n",
    "\n",
    "temp_set = sorted([ch for ch in name_char_set])\n",
    "\n",
    "# Generate simple key value pair using unique characters\n",
    "for i, char in enumerate(temp_set):\n",
    "    char_to_number[char] = i + 1\n",
    "    number_to_char[i + 1] = char\n",
    "    pass"
   ]
  },
  {
   "cell_type": "code",
   "execution_count": 10,
   "metadata": {},
   "outputs": [],
   "source": [
    "# Save your encoders if you want to, Very helpful when you want to tranfer your models\n",
    "\n",
    "# with open('char_to_number.enc', 'wb') as handle:\n",
    "#     pickle.dump(char_to_number, handle, protocol=pickle.HIGHEST_PROTOCOL)\n",
    "\n",
    "\n",
    "# lets now save the character decoder\n",
    "\n",
    "# with open('number_to_char.enc', 'wb') as handle:\n",
    "#     pickle.dump(number_to_char, handle, protocol=pickle.HIGHEST_PROTOCOL)\n",
    "\n",
    "\n",
    "# Reading saved encoder -- for later use\n",
    "# with open('char_to_number.enc', 'rb') as handle:\n",
    "#     saved_encoder = pickle.load(handle)"
   ]
  },
  {
   "cell_type": "code",
   "execution_count": 12,
   "metadata": {},
   "outputs": [
    {
     "data": {
      "text/plain": [
       "(34, 'g')"
      ]
     },
     "execution_count": 12,
     "metadata": {},
     "output_type": "execute_result"
    }
   ],
   "source": [
    "# Testing our encoder and decoder\n",
    "\n",
    "char_to_number.get(\"g\"), number_to_char.get(char_to_number.get(\"g\"))"
   ]
  },
  {
   "cell_type": "markdown",
   "metadata": {},
   "source": [
    "### Input Transformation"
   ]
  },
  {
   "cell_type": "code",
   "execution_count": 13,
   "metadata": {},
   "outputs": [],
   "source": [
    "#  Lets now transform all our inputs\n",
    "\n",
    "X = []\n",
    "\n",
    "for name in names:\n",
    "    name_token = [char_to_number.get(ch) for ch in name]\n",
    "    X.append(name_token)"
   ]
  },
  {
   "cell_type": "code",
   "execution_count": 15,
   "metadata": {},
   "outputs": [
    {
     "data": {
      "text/plain": [
       "([8, 6, 19, 2, 13, 5, 10, 15, 6], 'GERALDINE', 'GERALDINE')"
      ]
     },
     "execution_count": 15,
     "metadata": {},
     "output_type": "execute_result"
    }
   ],
   "source": [
    "# Lets take a look at our transformation\n",
    "X[0], \"\".join([number_to_char.get(n) for n in X[0]]), names[0]"
   ]
  },
  {
   "cell_type": "code",
   "execution_count": 16,
   "metadata": {},
   "outputs": [],
   "source": [
    "# Model parameters\n",
    "\n",
    "VOCAB_SIZE = len(temp_set) + 1\n",
    "MAX_LEN = 20  # or max([len(x) for x in X]) - Choosing a big number to be safe"
   ]
  },
  {
   "cell_type": "code",
   "execution_count": 17,
   "metadata": {},
   "outputs": [],
   "source": [
    "# padding the input sequence to make each training set length of 20\n",
    "\n",
    "X_padded = keras.preprocessing.sequence.pad_sequences(X, maxlen=MAX_LEN, truncating=\"post\", padding=\"post\", value=0)\n",
    "#  X_padded = X_padded.reshape(-1, 1, 20)"
   ]
  },
  {
   "cell_type": "code",
   "execution_count": 18,
   "metadata": {},
   "outputs": [
    {
     "data": {
      "text/plain": [
       "array([ 8,  6, 19,  2, 13,  5, 10, 15,  6,  0,  0,  0,  0,  0,  0,  0,  0,\n",
       "        0,  0,  0], dtype=int32)"
      ]
     },
     "execution_count": 18,
     "metadata": {},
     "output_type": "execute_result"
    }
   ],
   "source": [
    "X_padded[0]"
   ]
  },
  {
   "cell_type": "markdown",
   "metadata": {},
   "source": [
    "### Labels Transformation"
   ]
  },
  {
   "cell_type": "code",
   "execution_count": 19,
   "metadata": {},
   "outputs": [],
   "source": [
    "# Convert all to One-Hot Encoding FEMALE, MALE\n",
    "\n",
    "\n",
    "labels = np.array(pd.get_dummies(data[\"Gender\"]))\n"
   ]
  },
  {
   "cell_type": "markdown",
   "metadata": {},
   "source": [
    "## Building The model"
   ]
  },
  {
   "cell_type": "markdown",
   "metadata": {},
   "source": [
    "#### You can build your own custom model but my model\n",
    "#### I used Simple BiLSTM(both forward and Backwards) with some Layers"
   ]
  },
  {
   "cell_type": "code",
   "execution_count": 20,
   "metadata": {},
   "outputs": [],
   "source": [
    "# BiLSTM block using a simple function\n",
    "\n",
    "def BI_LSTM_BLOCK(units,return_sequence = False, input_shape=None):\n",
    "    fwd = keras.layers.LSTM(units, return_sequences=return_sequence, recurrent_dropout=0.2, input_shape=(None, MAX_LEN, VOCAB_SIZE))\n",
    "    bkw = keras.layers.LSTM(units, return_sequences=return_sequence, go_backwards=True, recurrent_dropout=0.2, input_shape=(None, MAX_LEN, VOCAB_SIZE))\n",
    "    if input_shape != None:\n",
    "        lstm = keras.layers.Bidirectional(fwd, bkw, input_shape=input_shape)\n",
    "        pass\n",
    "    else:\n",
    "        lstm = keras.layers.Bidirectional(layer=fwd, backward_layer=bkw)\n",
    "        pass\n",
    "\n",
    "    return lstm"
   ]
  },
  {
   "cell_type": "code",
   "execution_count": 21,
   "metadata": {},
   "outputs": [],
   "source": [
    "# building the model\n",
    "\n",
    "_input = keras.Input(shape=(20,))\n",
    "embedding = keras.layers.Embedding(VOCAB_SIZE, 100, input_length=MAX_LEN)(_input)\n",
    "bidirectional_lstm = BI_LSTM_BLOCK(64)\n",
    "bidirectional_lstm_2 = BI_LSTM_BLOCK(128, return_sequence=True)\n",
    "\n",
    "\n",
    "\n",
    "blk = bidirectional_lstm(embedding)\n",
    "blk_2 = bidirectional_lstm_2(embedding)\n",
    "bl_2 = keras.layers.Flatten()(blk_2)\n",
    "\n",
    "concat = keras.layers.Concatenate()([blk, bl_2])\n",
    "\n",
    "dense = keras.layers.Dense(192, activation=\"relu\")(concat)\n",
    "dense = keras.layers.Dense(64, activation=\"relu\")(dense)\n",
    "output = keras.layers.Dense(2, activation=\"sigmoid\")(dense)"
   ]
  },
  {
   "cell_type": "code",
   "execution_count": 22,
   "metadata": {},
   "outputs": [
    {
     "data": {
      "text/plain": [
       "TensorShape([None, 2])"
      ]
     },
     "execution_count": 22,
     "metadata": {},
     "output_type": "execute_result"
    }
   ],
   "source": [
    "# Returns number of classes\n",
    "\n",
    "output.shape"
   ]
  },
  {
   "cell_type": "code",
   "execution_count": 23,
   "metadata": {},
   "outputs": [],
   "source": [
    "model = keras.Model(_input, output)\n",
    "\n",
    "\n",
    "opt = keras.optimizers.Adam(lr=1e-3)\n",
    "loss = keras.losses.BinaryCrossentropy()\n",
    "model.compile(metrics=[\"accuracy\"], loss=loss,optimizer=opt)"
   ]
  },
  {
   "cell_type": "code",
   "execution_count": 24,
   "metadata": {},
   "outputs": [
    {
     "name": "stdout",
     "output_type": "stream",
     "text": [
      "Model: \"model\"\n",
      "__________________________________________________________________________________________________\n",
      "Layer (type)                    Output Shape         Param #     Connected to                     \n",
      "==================================================================================================\n",
      "input_1 (InputLayer)            [(None, 20)]         0                                            \n",
      "__________________________________________________________________________________________________\n",
      "embedding (Embedding)           (None, 20, 100)      5400        input_1[0][0]                    \n",
      "__________________________________________________________________________________________________\n",
      "bidirectional_1 (Bidirectional) (None, 20, 256)      234496      embedding[0][0]                  \n",
      "__________________________________________________________________________________________________\n",
      "bidirectional (Bidirectional)   (None, 128)          84480       embedding[0][0]                  \n",
      "__________________________________________________________________________________________________\n",
      "flatten (Flatten)               (None, 5120)         0           bidirectional_1[0][0]            \n",
      "__________________________________________________________________________________________________\n",
      "concatenate (Concatenate)       (None, 5248)         0           bidirectional[0][0]              \n",
      "                                                                 flatten[0][0]                    \n",
      "__________________________________________________________________________________________________\n",
      "dense (Dense)                   (None, 192)          1007808     concatenate[0][0]                \n",
      "__________________________________________________________________________________________________\n",
      "dense_1 (Dense)                 (None, 64)           12352       dense[0][0]                      \n",
      "__________________________________________________________________________________________________\n",
      "dense_2 (Dense)                 (None, 2)            130         dense_1[0][0]                    \n",
      "==================================================================================================\n",
      "Total params: 1,344,666\n",
      "Trainable params: 1,344,666\n",
      "Non-trainable params: 0\n",
      "__________________________________________________________________________________________________\n"
     ]
    }
   ],
   "source": [
    "model.summary()"
   ]
  },
  {
   "cell_type": "code",
   "execution_count": 25,
   "metadata": {},
   "outputs": [],
   "source": [
    "#  Some few callbacks for our model training\n",
    "\n",
    "early_stopping = tf.keras.callbacks.EarlyStopping(\n",
    "    monitor='val_accuracy', min_delta=0, patience=5, verbose=0,\n",
    "    mode='max', baseline=None, restore_best_weights=True\n",
    ")\n",
    "\n",
    "save_best_model = tf.keras.callbacks.ModelCheckpoint(\n",
    "    \"gender_model.h5\", monitor='val_accuracy', verbose=0, save_best_only=True,\n",
    "    save_weights_only=False, mode='max', save_freq='epoch',\n",
    "    options=None\n",
    ")"
   ]
  },
  {
   "cell_type": "code",
   "execution_count": 28,
   "metadata": {},
   "outputs": [
    {
     "name": "stdout",
     "output_type": "stream",
     "text": [
      "65/65 [==============================] - 65s 1s/step - loss: 0.5567 - accuracy: 0.7152 - val_loss: 0.5120 - val_accuracy: 0.7733\n"
     ]
    }
   ],
   "source": [
    "history = model.fit(\n",
    "    X_padded,\n",
    "    labels,\n",
    "    epochs=100,\n",
    "    batch_size=240,\n",
    "    shuffle=True,\n",
    "    validation_split=0.3,\n",
    "    callbacks=[early_stopping, save_best_model]\n",
    ")"
   ]
  },
  {
   "cell_type": "code",
   "execution_count": 29,
   "metadata": {},
   "outputs": [],
   "source": [
    "# Saving model params\n",
    "\n",
    "model.save(\"gender_model_tut.h5\")\n",
    "saved_model = keras.models.load_model('gender_model_tut.h5')\n",
    "# model.save_weights(\"weight_v2\")"
   ]
  },
  {
   "cell_type": "markdown",
   "metadata": {},
   "source": [
    "### Building Inference function"
   ]
  },
  {
   "cell_type": "code",
   "execution_count": 32,
   "metadata": {},
   "outputs": [],
   "source": [
    "def process_name(name = \"\"):\n",
    "    if name == \"\":\n",
    "        return None\n",
    "    # convert the characters into numbers\n",
    "    name_token = [char_to_number.get(ch) for ch in name]\n",
    "    \n",
    "    # pad to the max length\n",
    "    tokens = keras.preprocessing.sequence.pad_sequences([name_token], maxlen=MAX_LEN, truncating=\"post\", padding=\"post\", value=0)\n",
    "    \n",
    "    return tokens"
   ]
  },
  {
   "cell_type": "code",
   "execution_count": 33,
   "metadata": {},
   "outputs": [
    {
     "data": {
      "text/plain": [
       "array([0., 1.], dtype=float32)"
      ]
     },
     "execution_count": 33,
     "metadata": {},
     "output_type": "execute_result"
    }
   ],
   "source": [
    "processed_name = process_name(\"Archibold\")\n",
    "\n",
    "pred = model.predict(processed_name)[0]\n",
    "\n",
    "np.round(pred)"
   ]
  },
  {
   "cell_type": "code",
   "execution_count": null,
   "metadata": {},
   "outputs": [],
   "source": []
  },
  {
   "cell_type": "code",
   "execution_count": null,
   "metadata": {},
   "outputs": [],
   "source": []
  },
  {
   "cell_type": "code",
   "execution_count": null,
   "metadata": {},
   "outputs": [],
   "source": []
  }
 ],
 "metadata": {
  "kernelspec": {
   "display_name": "Python 3",
   "language": "python",
   "name": "python3"
  },
  "language_info": {
   "codemirror_mode": {
    "name": "ipython",
    "version": 3
   },
   "file_extension": ".py",
   "mimetype": "text/x-python",
   "name": "python",
   "nbconvert_exporter": "python",
   "pygments_lexer": "ipython3",
   "version": "3.6.9"
  }
 },
 "nbformat": 4,
 "nbformat_minor": 4
}
